{
 "cells": [
  {
   "cell_type": "code",
   "execution_count": 2,
   "id": "a9915b13",
   "metadata": {},
   "outputs": [],
   "source": [
    "from tensorflow.keras.models import load_model\n",
    "from tensorflow.keras.preprocessing import image\n",
    "import numpy as np"
   ]
  },
  {
   "cell_type": "code",
   "execution_count": 3,
   "id": "8ede271d",
   "metadata": {},
   "outputs": [],
   "source": [
    "model=load_model('vgg-16-nail.h5')"
   ]
  },
  {
   "cell_type": "code",
   "execution_count": 6,
   "id": "bfb5d709",
   "metadata": {},
   "outputs": [],
   "source": [
    "img=image.load_img('Dataset//train//koilonychia//6.PNG',target_size=(224,224))"
   ]
  },
  {
   "cell_type": "code",
   "execution_count": 7,
   "id": "2c66eed3",
   "metadata": {},
   "outputs": [],
   "source": [
    "x=image.img_to_array(img)"
   ]
  },
  {
   "cell_type": "code",
   "execution_count": 11,
   "id": "bed1e105",
   "metadata": {},
   "outputs": [
    {
     "name": "stdout",
     "output_type": "stream",
     "text": [
      "1/1 [==============================] - 7s 7s/step\n"
     ]
    },
    {
     "data": {
      "text/plain": [
       "array([[0., 0., 0., 0., 0., 0., 0., 0., 1., 0., 0., 0., 0., 0., 0., 0.,\n",
       "        0.]], dtype=float32)"
      ]
     },
     "execution_count": 11,
     "metadata": {},
     "output_type": "execute_result"
    }
   ],
   "source": [
    "model.predict(np.expand_dims(x,0))"
   ]
  },
  {
   "cell_type": "code",
   "execution_count": 13,
   "id": "2949d8ac",
   "metadata": {},
   "outputs": [
    {
     "name": "stdout",
     "output_type": "stream",
     "text": [
      "1/1 [==============================] - 0s 19ms/step\n"
     ]
    },
    {
     "data": {
      "text/plain": [
       "array([8], dtype=int64)"
      ]
     },
     "execution_count": 13,
     "metadata": {},
     "output_type": "execute_result"
    }
   ],
   "source": [
    "output=np.argmax(model.predict(np.expand_dims(x,0)),axis=1)\n",
    "output"
   ]
  },
  {
   "cell_type": "code",
   "execution_count": 14,
   "id": "a43879fe",
   "metadata": {},
   "outputs": [],
   "source": [
    "label_dict = {\n",
    "    0: 'Darier_s disease',\n",
    "    1: 'Muehrck-e_s lines',\n",
    "    2: 'aloperia areata',\n",
    "    3: 'beau_s lines',\n",
    "    4: 'bluish nail',\n",
    "    5: 'clubbing',\n",
    "    6: 'eczema',\n",
    "    7: 'half and half nailes (Lindsay_s nails)',\n",
    "    8: 'koilonychia',\n",
    "    9: 'leukonychia',\n",
    "    10: 'onycholycis',\n",
    "    11: 'pale nail',\n",
    "    12: 'red lunula',\n",
    "    13: 'splinter hemmorrage',\n",
    "    14: 'terry_s nail',\n",
    "    15: 'white nail',\n",
    "    16: 'yellow nails'\n",
    "}"
   ]
  },
  {
   "cell_type": "code",
   "execution_count": 16,
   "id": "c08155fa",
   "metadata": {},
   "outputs": [
    {
     "data": {
      "text/plain": [
       "'koilonychia'"
      ]
     },
     "execution_count": 16,
     "metadata": {},
     "output_type": "execute_result"
    }
   ],
   "source": [
    "label_dict[output[0]]"
   ]
  },
  {
   "cell_type": "code",
   "execution_count": null,
   "id": "50df4b32",
   "metadata": {},
   "outputs": [],
   "source": []
  }
 ],
 "metadata": {
  "kernelspec": {
   "display_name": "Python 3 (ipykernel)",
   "language": "python",
   "name": "python3"
  },
  "language_info": {
   "codemirror_mode": {
    "name": "ipython",
    "version": 3
   },
   "file_extension": ".py",
   "mimetype": "text/x-python",
   "name": "python",
   "nbconvert_exporter": "python",
   "pygments_lexer": "ipython3",
   "version": "3.10.5"
  }
 },
 "nbformat": 4,
 "nbformat_minor": 5
}
